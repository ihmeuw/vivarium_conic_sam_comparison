{
 "cells": [
  {
   "cell_type": "code",
   "execution_count": 1,
   "metadata": {},
   "outputs": [],
   "source": [
    "from pathlib import Path\n",
    "import itertools\n",
    "\n",
    "import matplotlib.pyplot as plt\n",
    "import numpy as np\n",
    "import pandas as pd\n",
    "from ipywidgets import interact, interactive, fixed, interact_manual\n",
    "\n",
    "from db_queries import get_outputs, get_ids, get_age_metadata\n",
    "\n",
    "from vivarium_inputs import get_raw_data, get_population_structure, get_demographic_dimensions\n",
    "from vivarium_inputs.core import get_data\n",
    "from vivarium_inputs.globals import Population\n",
    "from vivarium_inputs.utilities import scrub_gbd_conventions\n",
    "from gbd_mapping import causes, risk_factors"
   ]
  },
  {
   "cell_type": "code",
   "execution_count": 2,
   "metadata": {},
   "outputs": [
    {
     "data": {
      "text/html": [
       "\n",
       "    <div class=\"bk-root\">\n",
       "        <a href=\"https://bokeh.pydata.org\" target=\"_blank\" class=\"bk-logo bk-logo-small bk-logo-notebook\"></a>\n",
       "        <span id=\"1001\">Loading BokehJS ...</span>\n",
       "    </div>"
      ]
     },
     "metadata": {},
     "output_type": "display_data"
    },
    {
     "data": {
      "application/javascript": [
       "\n",
       "(function(root) {\n",
       "  function now() {\n",
       "    return new Date();\n",
       "  }\n",
       "\n",
       "  var force = true;\n",
       "\n",
       "  if (typeof root._bokeh_onload_callbacks === \"undefined\" || force === true) {\n",
       "    root._bokeh_onload_callbacks = [];\n",
       "    root._bokeh_is_loading = undefined;\n",
       "  }\n",
       "\n",
       "  var JS_MIME_TYPE = 'application/javascript';\n",
       "  var HTML_MIME_TYPE = 'text/html';\n",
       "  var EXEC_MIME_TYPE = 'application/vnd.bokehjs_exec.v0+json';\n",
       "  var CLASS_NAME = 'output_bokeh rendered_html';\n",
       "\n",
       "  /**\n",
       "   * Render data to the DOM node\n",
       "   */\n",
       "  function render(props, node) {\n",
       "    var script = document.createElement(\"script\");\n",
       "    node.appendChild(script);\n",
       "  }\n",
       "\n",
       "  /**\n",
       "   * Handle when an output is cleared or removed\n",
       "   */\n",
       "  function handleClearOutput(event, handle) {\n",
       "    var cell = handle.cell;\n",
       "\n",
       "    var id = cell.output_area._bokeh_element_id;\n",
       "    var server_id = cell.output_area._bokeh_server_id;\n",
       "    // Clean up Bokeh references\n",
       "    if (id != null && id in Bokeh.index) {\n",
       "      Bokeh.index[id].model.document.clear();\n",
       "      delete Bokeh.index[id];\n",
       "    }\n",
       "\n",
       "    if (server_id !== undefined) {\n",
       "      // Clean up Bokeh references\n",
       "      var cmd = \"from bokeh.io.state import curstate; print(curstate().uuid_to_server['\" + server_id + \"'].get_sessions()[0].document.roots[0]._id)\";\n",
       "      cell.notebook.kernel.execute(cmd, {\n",
       "        iopub: {\n",
       "          output: function(msg) {\n",
       "            var id = msg.content.text.trim();\n",
       "            if (id in Bokeh.index) {\n",
       "              Bokeh.index[id].model.document.clear();\n",
       "              delete Bokeh.index[id];\n",
       "            }\n",
       "          }\n",
       "        }\n",
       "      });\n",
       "      // Destroy server and session\n",
       "      var cmd = \"import bokeh.io.notebook as ion; ion.destroy_server('\" + server_id + \"')\";\n",
       "      cell.notebook.kernel.execute(cmd);\n",
       "    }\n",
       "  }\n",
       "\n",
       "  /**\n",
       "   * Handle when a new output is added\n",
       "   */\n",
       "  function handleAddOutput(event, handle) {\n",
       "    var output_area = handle.output_area;\n",
       "    var output = handle.output;\n",
       "\n",
       "    // limit handleAddOutput to display_data with EXEC_MIME_TYPE content only\n",
       "    if ((output.output_type != \"display_data\") || (!output.data.hasOwnProperty(EXEC_MIME_TYPE))) {\n",
       "      return\n",
       "    }\n",
       "\n",
       "    var toinsert = output_area.element.find(\".\" + CLASS_NAME.split(' ')[0]);\n",
       "\n",
       "    if (output.metadata[EXEC_MIME_TYPE][\"id\"] !== undefined) {\n",
       "      toinsert[toinsert.length - 1].firstChild.textContent = output.data[JS_MIME_TYPE];\n",
       "      // store reference to embed id on output_area\n",
       "      output_area._bokeh_element_id = output.metadata[EXEC_MIME_TYPE][\"id\"];\n",
       "    }\n",
       "    if (output.metadata[EXEC_MIME_TYPE][\"server_id\"] !== undefined) {\n",
       "      var bk_div = document.createElement(\"div\");\n",
       "      bk_div.innerHTML = output.data[HTML_MIME_TYPE];\n",
       "      var script_attrs = bk_div.children[0].attributes;\n",
       "      for (var i = 0; i < script_attrs.length; i++) {\n",
       "        toinsert[toinsert.length - 1].firstChild.setAttribute(script_attrs[i].name, script_attrs[i].value);\n",
       "      }\n",
       "      // store reference to server id on output_area\n",
       "      output_area._bokeh_server_id = output.metadata[EXEC_MIME_TYPE][\"server_id\"];\n",
       "    }\n",
       "  }\n",
       "\n",
       "  function register_renderer(events, OutputArea) {\n",
       "\n",
       "    function append_mime(data, metadata, element) {\n",
       "      // create a DOM node to render to\n",
       "      var toinsert = this.create_output_subarea(\n",
       "        metadata,\n",
       "        CLASS_NAME,\n",
       "        EXEC_MIME_TYPE\n",
       "      );\n",
       "      this.keyboard_manager.register_events(toinsert);\n",
       "      // Render to node\n",
       "      var props = {data: data, metadata: metadata[EXEC_MIME_TYPE]};\n",
       "      render(props, toinsert[toinsert.length - 1]);\n",
       "      element.append(toinsert);\n",
       "      return toinsert\n",
       "    }\n",
       "\n",
       "    /* Handle when an output is cleared or removed */\n",
       "    events.on('clear_output.CodeCell', handleClearOutput);\n",
       "    events.on('delete.Cell', handleClearOutput);\n",
       "\n",
       "    /* Handle when a new output is added */\n",
       "    events.on('output_added.OutputArea', handleAddOutput);\n",
       "\n",
       "    /**\n",
       "     * Register the mime type and append_mime function with output_area\n",
       "     */\n",
       "    OutputArea.prototype.register_mime_type(EXEC_MIME_TYPE, append_mime, {\n",
       "      /* Is output safe? */\n",
       "      safe: true,\n",
       "      /* Index of renderer in `output_area.display_order` */\n",
       "      index: 0\n",
       "    });\n",
       "  }\n",
       "\n",
       "  // register the mime type if in Jupyter Notebook environment and previously unregistered\n",
       "  if (root.Jupyter !== undefined) {\n",
       "    var events = require('base/js/events');\n",
       "    var OutputArea = require('notebook/js/outputarea').OutputArea;\n",
       "\n",
       "    if (OutputArea.prototype.mime_types().indexOf(EXEC_MIME_TYPE) == -1) {\n",
       "      register_renderer(events, OutputArea);\n",
       "    }\n",
       "  }\n",
       "\n",
       "  \n",
       "  if (typeof (root._bokeh_timeout) === \"undefined\" || force === true) {\n",
       "    root._bokeh_timeout = Date.now() + 5000;\n",
       "    root._bokeh_failed_load = false;\n",
       "  }\n",
       "\n",
       "  var NB_LOAD_WARNING = {'data': {'text/html':\n",
       "     \"<div style='background-color: #fdd'>\\n\"+\n",
       "     \"<p>\\n\"+\n",
       "     \"BokehJS does not appear to have successfully loaded. If loading BokehJS from CDN, this \\n\"+\n",
       "     \"may be due to a slow or bad network connection. Possible fixes:\\n\"+\n",
       "     \"</p>\\n\"+\n",
       "     \"<ul>\\n\"+\n",
       "     \"<li>re-rerun `output_notebook()` to attempt to load from CDN again, or</li>\\n\"+\n",
       "     \"<li>use INLINE resources instead, as so:</li>\\n\"+\n",
       "     \"</ul>\\n\"+\n",
       "     \"<code>\\n\"+\n",
       "     \"from bokeh.resources import INLINE\\n\"+\n",
       "     \"output_notebook(resources=INLINE)\\n\"+\n",
       "     \"</code>\\n\"+\n",
       "     \"</div>\"}};\n",
       "\n",
       "  function display_loaded() {\n",
       "    var el = document.getElementById(\"1001\");\n",
       "    if (el != null) {\n",
       "      el.textContent = \"BokehJS is loading...\";\n",
       "    }\n",
       "    if (root.Bokeh !== undefined) {\n",
       "      if (el != null) {\n",
       "        el.textContent = \"BokehJS \" + root.Bokeh.version + \" successfully loaded.\";\n",
       "      }\n",
       "    } else if (Date.now() < root._bokeh_timeout) {\n",
       "      setTimeout(display_loaded, 100)\n",
       "    }\n",
       "  }\n",
       "\n",
       "\n",
       "  function run_callbacks() {\n",
       "    try {\n",
       "      root._bokeh_onload_callbacks.forEach(function(callback) {\n",
       "        if (callback != null)\n",
       "          callback();\n",
       "      });\n",
       "    } finally {\n",
       "      delete root._bokeh_onload_callbacks\n",
       "    }\n",
       "    console.debug(\"Bokeh: all callbacks have finished\");\n",
       "  }\n",
       "\n",
       "  function load_libs(css_urls, js_urls, callback) {\n",
       "    if (css_urls == null) css_urls = [];\n",
       "    if (js_urls == null) js_urls = [];\n",
       "\n",
       "    root._bokeh_onload_callbacks.push(callback);\n",
       "    if (root._bokeh_is_loading > 0) {\n",
       "      console.debug(\"Bokeh: BokehJS is being loaded, scheduling callback at\", now());\n",
       "      return null;\n",
       "    }\n",
       "    if (js_urls == null || js_urls.length === 0) {\n",
       "      run_callbacks();\n",
       "      return null;\n",
       "    }\n",
       "    console.debug(\"Bokeh: BokehJS not loaded, scheduling load and callback at\", now());\n",
       "    root._bokeh_is_loading = css_urls.length + js_urls.length;\n",
       "\n",
       "    function on_load() {\n",
       "      root._bokeh_is_loading--;\n",
       "      if (root._bokeh_is_loading === 0) {\n",
       "        console.debug(\"Bokeh: all BokehJS libraries/stylesheets loaded\");\n",
       "        run_callbacks()\n",
       "      }\n",
       "    }\n",
       "\n",
       "    function on_error() {\n",
       "      console.error(\"failed to load \" + url);\n",
       "    }\n",
       "\n",
       "    for (var i = 0; i < css_urls.length; i++) {\n",
       "      var url = css_urls[i];\n",
       "      const element = document.createElement(\"link\");\n",
       "      element.onload = on_load;\n",
       "      element.onerror = on_error;\n",
       "      element.rel = \"stylesheet\";\n",
       "      element.type = \"text/css\";\n",
       "      element.href = url;\n",
       "      console.debug(\"Bokeh: injecting link tag for BokehJS stylesheet: \", url);\n",
       "      document.body.appendChild(element);\n",
       "    }\n",
       "\n",
       "    for (var i = 0; i < js_urls.length; i++) {\n",
       "      var url = js_urls[i];\n",
       "      var element = document.createElement('script');\n",
       "      element.onload = on_load;\n",
       "      element.onerror = on_error;\n",
       "      element.async = false;\n",
       "      element.src = url;\n",
       "      console.debug(\"Bokeh: injecting script tag for BokehJS library: \", url);\n",
       "      document.head.appendChild(element);\n",
       "    }\n",
       "  };var element = document.getElementById(\"1001\");\n",
       "  if (element == null) {\n",
       "    console.error(\"Bokeh: ERROR: autoload.js configured with elementid '1001' but no matching script tag was found. \")\n",
       "    return false;\n",
       "  }\n",
       "\n",
       "  function inject_raw_css(css) {\n",
       "    const element = document.createElement(\"style\");\n",
       "    element.appendChild(document.createTextNode(css));\n",
       "    document.body.appendChild(element);\n",
       "  }\n",
       "\n",
       "  var js_urls = [\"https://cdn.pydata.org/bokeh/release/bokeh-1.3.4.min.js\", \"https://cdn.pydata.org/bokeh/release/bokeh-widgets-1.3.4.min.js\", \"https://cdn.pydata.org/bokeh/release/bokeh-tables-1.3.4.min.js\", \"https://cdn.pydata.org/bokeh/release/bokeh-gl-1.3.4.min.js\"];\n",
       "  var css_urls = [];\n",
       "\n",
       "  var inline_js = [\n",
       "    function(Bokeh) {\n",
       "      Bokeh.set_log_level(\"info\");\n",
       "    },\n",
       "    \n",
       "    function(Bokeh) {\n",
       "      \n",
       "    },\n",
       "    function(Bokeh) {} // ensure no trailing comma for IE\n",
       "  ];\n",
       "\n",
       "  function run_inline_js() {\n",
       "    \n",
       "    if ((root.Bokeh !== undefined) || (force === true)) {\n",
       "      for (var i = 0; i < inline_js.length; i++) {\n",
       "        inline_js[i].call(root, root.Bokeh);\n",
       "      }if (force === true) {\n",
       "        display_loaded();\n",
       "      }} else if (Date.now() < root._bokeh_timeout) {\n",
       "      setTimeout(run_inline_js, 100);\n",
       "    } else if (!root._bokeh_failed_load) {\n",
       "      console.log(\"Bokeh: BokehJS failed to load within specified timeout.\");\n",
       "      root._bokeh_failed_load = true;\n",
       "    } else if (force !== true) {\n",
       "      var cell = $(document.getElementById(\"1001\")).parents('.cell').data().cell;\n",
       "      cell.output_area.append_execute_result(NB_LOAD_WARNING)\n",
       "    }\n",
       "\n",
       "  }\n",
       "\n",
       "  if (root._bokeh_is_loading === 0) {\n",
       "    console.debug(\"Bokeh: BokehJS loaded, going straight to plotting\");\n",
       "    run_inline_js();\n",
       "  } else {\n",
       "    load_libs(css_urls, js_urls, function() {\n",
       "      console.debug(\"Bokeh: BokehJS plotting callback run at\", now());\n",
       "      run_inline_js();\n",
       "    });\n",
       "  }\n",
       "}(window));"
      ],
      "application/vnd.bokehjs_load.v0+json": "\n(function(root) {\n  function now() {\n    return new Date();\n  }\n\n  var force = true;\n\n  if (typeof root._bokeh_onload_callbacks === \"undefined\" || force === true) {\n    root._bokeh_onload_callbacks = [];\n    root._bokeh_is_loading = undefined;\n  }\n\n  \n\n  \n  if (typeof (root._bokeh_timeout) === \"undefined\" || force === true) {\n    root._bokeh_timeout = Date.now() + 5000;\n    root._bokeh_failed_load = false;\n  }\n\n  var NB_LOAD_WARNING = {'data': {'text/html':\n     \"<div style='background-color: #fdd'>\\n\"+\n     \"<p>\\n\"+\n     \"BokehJS does not appear to have successfully loaded. If loading BokehJS from CDN, this \\n\"+\n     \"may be due to a slow or bad network connection. Possible fixes:\\n\"+\n     \"</p>\\n\"+\n     \"<ul>\\n\"+\n     \"<li>re-rerun `output_notebook()` to attempt to load from CDN again, or</li>\\n\"+\n     \"<li>use INLINE resources instead, as so:</li>\\n\"+\n     \"</ul>\\n\"+\n     \"<code>\\n\"+\n     \"from bokeh.resources import INLINE\\n\"+\n     \"output_notebook(resources=INLINE)\\n\"+\n     \"</code>\\n\"+\n     \"</div>\"}};\n\n  function display_loaded() {\n    var el = document.getElementById(\"1001\");\n    if (el != null) {\n      el.textContent = \"BokehJS is loading...\";\n    }\n    if (root.Bokeh !== undefined) {\n      if (el != null) {\n        el.textContent = \"BokehJS \" + root.Bokeh.version + \" successfully loaded.\";\n      }\n    } else if (Date.now() < root._bokeh_timeout) {\n      setTimeout(display_loaded, 100)\n    }\n  }\n\n\n  function run_callbacks() {\n    try {\n      root._bokeh_onload_callbacks.forEach(function(callback) {\n        if (callback != null)\n          callback();\n      });\n    } finally {\n      delete root._bokeh_onload_callbacks\n    }\n    console.debug(\"Bokeh: all callbacks have finished\");\n  }\n\n  function load_libs(css_urls, js_urls, callback) {\n    if (css_urls == null) css_urls = [];\n    if (js_urls == null) js_urls = [];\n\n    root._bokeh_onload_callbacks.push(callback);\n    if (root._bokeh_is_loading > 0) {\n      console.debug(\"Bokeh: BokehJS is being loaded, scheduling callback at\", now());\n      return null;\n    }\n    if (js_urls == null || js_urls.length === 0) {\n      run_callbacks();\n      return null;\n    }\n    console.debug(\"Bokeh: BokehJS not loaded, scheduling load and callback at\", now());\n    root._bokeh_is_loading = css_urls.length + js_urls.length;\n\n    function on_load() {\n      root._bokeh_is_loading--;\n      if (root._bokeh_is_loading === 0) {\n        console.debug(\"Bokeh: all BokehJS libraries/stylesheets loaded\");\n        run_callbacks()\n      }\n    }\n\n    function on_error() {\n      console.error(\"failed to load \" + url);\n    }\n\n    for (var i = 0; i < css_urls.length; i++) {\n      var url = css_urls[i];\n      const element = document.createElement(\"link\");\n      element.onload = on_load;\n      element.onerror = on_error;\n      element.rel = \"stylesheet\";\n      element.type = \"text/css\";\n      element.href = url;\n      console.debug(\"Bokeh: injecting link tag for BokehJS stylesheet: \", url);\n      document.body.appendChild(element);\n    }\n\n    for (var i = 0; i < js_urls.length; i++) {\n      var url = js_urls[i];\n      var element = document.createElement('script');\n      element.onload = on_load;\n      element.onerror = on_error;\n      element.async = false;\n      element.src = url;\n      console.debug(\"Bokeh: injecting script tag for BokehJS library: \", url);\n      document.head.appendChild(element);\n    }\n  };var element = document.getElementById(\"1001\");\n  if (element == null) {\n    console.error(\"Bokeh: ERROR: autoload.js configured with elementid '1001' but no matching script tag was found. \")\n    return false;\n  }\n\n  function inject_raw_css(css) {\n    const element = document.createElement(\"style\");\n    element.appendChild(document.createTextNode(css));\n    document.body.appendChild(element);\n  }\n\n  var js_urls = [\"https://cdn.pydata.org/bokeh/release/bokeh-1.3.4.min.js\", \"https://cdn.pydata.org/bokeh/release/bokeh-widgets-1.3.4.min.js\", \"https://cdn.pydata.org/bokeh/release/bokeh-tables-1.3.4.min.js\", \"https://cdn.pydata.org/bokeh/release/bokeh-gl-1.3.4.min.js\"];\n  var css_urls = [];\n\n  var inline_js = [\n    function(Bokeh) {\n      Bokeh.set_log_level(\"info\");\n    },\n    \n    function(Bokeh) {\n      \n    },\n    function(Bokeh) {} // ensure no trailing comma for IE\n  ];\n\n  function run_inline_js() {\n    \n    if ((root.Bokeh !== undefined) || (force === true)) {\n      for (var i = 0; i < inline_js.length; i++) {\n        inline_js[i].call(root, root.Bokeh);\n      }if (force === true) {\n        display_loaded();\n      }} else if (Date.now() < root._bokeh_timeout) {\n      setTimeout(run_inline_js, 100);\n    } else if (!root._bokeh_failed_load) {\n      console.log(\"Bokeh: BokehJS failed to load within specified timeout.\");\n      root._bokeh_failed_load = true;\n    } else if (force !== true) {\n      var cell = $(document.getElementById(\"1001\")).parents('.cell').data().cell;\n      cell.output_area.append_execute_result(NB_LOAD_WARNING)\n    }\n\n  }\n\n  if (root._bokeh_is_loading === 0) {\n    console.debug(\"Bokeh: BokehJS loaded, going straight to plotting\");\n    run_inline_js();\n  } else {\n    load_libs(css_urls, js_urls, function() {\n      console.debug(\"Bokeh: BokehJS plotting callback run at\", now());\n      run_inline_js();\n    });\n  }\n}(window));"
     },
     "metadata": {},
     "output_type": "display_data"
    }
   ],
   "source": [
    "from bokeh.plotting import figure, show\n",
    "from bokeh.io import output_notebook\n",
    "from bokeh.models import Legend, LegendItem\n",
    "from bokeh.layouts import row, column\n",
    "output_notebook()"
   ]
  },
  {
   "cell_type": "code",
   "execution_count": 3,
   "metadata": {},
   "outputs": [],
   "source": [
    "# Important to note this is a baseline run, no interventions.\n",
    "\n",
    "RESULTS_DIRECTORIES = {'India': Path(\"/share/costeffectiveness/results/vivarium_conic_sam_comparison/vivarium_conic_sam_comparison_baseline_India/2019_09_11_21_35_55\"),\n",
    "                       'Bangladesh': Path(\"/share/costeffectiveness/results/vivarium_conic_sam_comparison/vivarium_conic_sam_comparison_baseline_Bangladesh/2019_09_11_21_29_07\"),\n",
    "                       'Malawi': Path(\"/share/costeffectiveness/results/vivarium_conic_sam_comparison/vivarium_conic_sam_comparison_baseline_Malawi/2019_09_11_21_29_10\"),\n",
    "                       'Mali': Path(\"/share/costeffectiveness/results/vivarium_conic_sam_comparison/vivarium_conic_sam_comparison_baseline_Mali/2019_09_11_21_29_10\"),\n",
    "#                        'Pakistan': Path(\"\"),\n",
    "                       'Tanzania': Path(\"/share/costeffectiveness/results/vivarium_conic_sam_comparison/vivarium_conic_sam_comparison_baseline_Tanzania/2019_09_11_21_29_16\")\n",
    "                      }\n",
    "COUNTRIES = list(RESULTS_DIRECTORIES.keys())\n",
    "CAUSES = [causes.diarrheal_diseases, causes.lower_respiratory_infections, \n",
    "          causes.measles, causes.protein_energy_malnutrition, \n",
    "          causes.neonatal_encephalopathy_due_to_birth_asphyxia_and_trauma,\n",
    "          causes.neonatal_sepsis_and_other_neonatal_infections, \n",
    "          causes.hemolytic_disease_and_other_neonatal_jaundice]\n",
    "MEASURES = ['Deaths', 'YLLs', 'YLDs', 'DALYs', 'CSMR']"
   ]
  },
  {
   "cell_type": "markdown",
   "metadata": {},
   "source": [
    "# Getting data from GBD"
   ]
  },
  {
   "cell_type": "markdown",
   "metadata": {},
   "source": [
    "### The GBD ID dance"
   ]
  },
  {
   "cell_type": "code",
   "execution_count": 4,
   "metadata": {},
   "outputs": [],
   "source": [
    "## use get_ids to figure out the stuff I want\n",
    "gbd_measure_ids = get_ids(\"measure\")\n",
    "\n",
    "gbd_metric_ids = get_ids(\"metric\")\n",
    "\n",
    "gbd_age_group_set_ids = get_ids(\"age_group_set\")\n",
    "gbd_2015_age_group_set = 1\n",
    "gbd_age_group_metadata = get_age_metadata(age_group_set_id=gbd_2015_age_group_set, gbd_round_id=5)\n",
    "gbd_age_group_ids = get_ids(\"age_group\")\n",
    "# gbd_age_group_ids = gbd_age_group_ids.loc[gbd_age_group_ids['age_group_id'].isin(gbd_age_group_metadata['age_group_id'])]\n",
    "\n",
    "gbd_sex_ids = get_ids(\"sex\")\n",
    "\n",
    "gbd_location_ids = get_ids(\"location\")\n",
    "\n",
    "# ID Mappings\n",
    "LOCATION_IDS = dict(zip(gbd_location_ids['location_name'], gbd_location_ids['location_id']))\n",
    "FULL_AGE_ID_SET = dict(zip(gbd_age_group_ids['age_group_id'], gbd_age_group_ids['age_group_name']))\n",
    "AGE_IDS = {FULL_AGE_ID_SET[age_id]: age_id for age_id in gbd_age_group_metadata['age_group_id'].unique()}\n",
    "SEX_IDS = {\n",
    "    'Male': 1,\n",
    "    'Female': 2\n",
    "}\n",
    "MEASURE_IDS = {\n",
    "    'Deaths': 1,\n",
    "    'DALYs': 2,\n",
    "    'YLDs': 3,\n",
    "    'YLLs': 4,\n",
    "    'CSMR': 15  # TODO: Why broken ?\n",
    "}\n",
    "METRIC_IDS = {\n",
    "    'rate': 3\n",
    "}"
   ]
  },
  {
   "cell_type": "code",
   "execution_count": 5,
   "metadata": {
    "scrolled": true
   },
   "outputs": [],
   "source": [
    "def get_gbd_data(location, cause, measure):\n",
    "    df = get_outputs(\"cause\", \n",
    "                    cause_id=cause.gbd_id, \n",
    "                    metric_id=[METRIC_IDS['rate']], \n",
    "                    measure_id=[MEASURE_IDS[measure]], \n",
    "                    year_id=[2017],\n",
    "                    location_id=[LOCATION_IDS[location]],\n",
    "                    age_group_id=list(AGE_IDS.values()),\n",
    "                    sex_id=list(SEX_IDS.values()),\n",
    "                    gbd_round_id=5)\n",
    "    df = df.set_index(['location_name', 'age_group_name', 'cause_name', 'sex', 'measure_name'])\n",
    "    df = df[['lower', 'val', 'upper']]\n",
    "    df = df.reset_index()\n",
    "    \n",
    "    return df"
   ]
  },
  {
   "cell_type": "markdown",
   "metadata": {},
   "source": [
    "# Getting data from sim results"
   ]
  },
  {
   "cell_type": "markdown",
   "metadata": {},
   "source": [
    "### Sim runtimes in hours"
   ]
  },
  {
   "cell_type": "code",
   "execution_count": 6,
   "metadata": {
    "scrolled": false
   },
   "outputs": [
    {
     "name": "stdout",
     "output_type": "stream",
     "text": [
      "India\n"
     ]
    },
    {
     "data": {
      "image/png": "[encoded data removed]",
      "text/plain": [
       "<Figure size 432x288 with 1 Axes>"
      ]
     },
     "metadata": {
      "needs_background": "light"
     },
     "output_type": "display_data"
    },
    {
     "name": "stdout",
     "output_type": "stream",
     "text": [
      "Bangladesh\n"
     ]
    },
    {
     "data": {
      "image/png": "[encoded data removed]",
      "text/plain": [
       "<Figure size 432x288 with 1 Axes>"
      ]
     },
     "metadata": {
      "needs_background": "light"
     },
     "output_type": "display_data"
    },
    {
     "name": "stdout",
     "output_type": "stream",
     "text": [
      "Malawi\n"
     ]
    },
    {
     "data": {
      "image/png": "[encoded data removed]",
      "text/plain": [
       "<Figure size 432x288 with 1 Axes>"
      ]
     },
     "metadata": {
      "needs_background": "light"
     },
     "output_type": "display_data"
    },
    {
     "name": "stdout",
     "output_type": "stream",
     "text": [
      "Mali\n"
     ]
    },
    {
     "data": {
      "image/png": "[encoded data removed]",
      "text/plain": [
       "<Figure size 432x288 with 1 Axes>"
      ]
     },
     "metadata": {
      "needs_background": "light"
     },
     "output_type": "display_data"
    },
    {
     "name": "stdout",
     "output_type": "stream",
     "text": [
      "Tanzania\n"
     ]
    },
    {
     "data": {
      "image/png": "[encoded data removed]",
      "text/plain": [
       "<Figure size 432x288 with 1 Axes>"
      ]
     },
     "metadata": {
      "needs_background": "light"
     },
     "output_type": "display_data"
    }
   ],
   "source": [
    "# TODO: Add titles etc, switch to Bokeh\n",
    "\n",
    "for country, results_dir in RESULTS_DIRECTORIES.items():\n",
    "    results = pd.read_hdf(results_dir / \"output.hdf\")\n",
    "    print(country)\n",
    "    (results['simulation_run_time'] / 3600.).hist(bins=25)\n",
    "    plt.show()"
   ]
  },
  {
   "cell_type": "markdown",
   "metadata": {},
   "source": [
    "### Real results"
   ]
  },
  {
   "cell_type": "code",
   "execution_count": 7,
   "metadata": {},
   "outputs": [],
   "source": [
    "def make_result_frame(location, cause, measure):\n",
    "    age_group_names = list(AGE_IDS.keys())\n",
    "    age_group_names = [n.replace(\" \", \"_\") for n in age_group_names]\n",
    "    age_group_names = [\"early_neonatal\", \"late_neonatal\", \"post_neonatal\", \"1_to_4\" ]\n",
    "    sex_group_names = ['male', 'female']\n",
    "    index = pd.MultiIndex.from_product([[location], age_group_names, [cause.name], sex_group_names], \n",
    "                                       names=['location_name', 'age_group_name', 'cause_name', 'sex'])\n",
    "    return pd.DataFrame({'lower': [np.nan], 'val': [np.nan], 'upper': [np.nan]}, index=index)\n",
    "\n",
    "\n",
    "def get_result(data, location, cause, measure, measure_columns):\n",
    "    result = make_result_frame(location, cause, measure)\n",
    "    for age in result.index.get_level_values(\"age_group_name\").unique():\n",
    "        age = age.lower()\n",
    "        for sex in result.index.get_level_values(\"sex\").unique():\n",
    "            cols = [c for c in measure_columns if age in c and sex in c]\n",
    "\n",
    "            summary = data[cols].sum(axis=1).groupby(by=['random_seed']).sum()\n",
    "            lower = summary.quantile(0.025)\n",
    "            val = summary.mean()\n",
    "            upper = summary.quantile(0.975)\n",
    "            result.loc[location, age, cause.name, sex] = (lower, val, upper)\n",
    "    \n",
    "    return result\n",
    "\n",
    "\n",
    "def get_deaths_due_to(sim_results, location, cause):\n",
    "    columns = [c for c in sim_results.columns if f\"death_due_to_{cause.name}\" in c]\n",
    "    result = get_result(sim_results, location, cause, 'Deaths', columns)\n",
    "    return result\n",
    "\n",
    "\n",
    "def get_deaths_due_to_rate(sim_results, location, cause):\n",
    "    deaths = get_deaths_due_to(sim_results, location, cause)\n",
    "    pt = get_person_time(sim_results, location, cause)\n",
    "    return deaths / pt\n",
    "\n",
    "\n",
    "def get_person_time(sim_results, location, cause):\n",
    "    columns = [c for c in sim_results.columns if \"person_time\" in c]\n",
    "    result = get_result(sim_results, location, cause, 'person_time', columns)\n",
    "#     result = result.reset_index('person_time', drop=True)  # drop measure indexer if you add measure column\n",
    "    return result\n",
    "\n",
    "\n",
    "def get_csmr(sim_results, location, cause):\n",
    "    deaths = get_deaths_due_to(sim_results, location, cause)\n",
    "    pt = get_person_time(sim_results, location, cause)\n",
    "    return deaths / pt\n",
    "\n",
    "\n",
    "def get_years_lived(sim_results, location, cause, kind):\n",
    "    columns = [c for c in sim_results.columns if f\"{kind}_due_to_{cause.name}\" in c]\n",
    "    result = get_result(sim_results, location, cause, kind, columns)\n",
    "    return result\n",
    "\n",
    "\n",
    "def get_years_lived_rate(sim_results, location, cause, kind):\n",
    "    years_lived = get_years_lived(sim_results, location, cause, kind)\n",
    "    pt = get_person_time(sim_results, location, cause)\n",
    "    return years_lived / pt\n",
    "\n",
    "\n",
    "def reformat(result):\n",
    "    result = result.reset_index()\n",
    "    age_map = {k.replace(' ', '_').lower(): k for k in AGE_IDS.keys()}\n",
    "    result['age_group_name'] = result['age_group_name'].replace(age_map)\n",
    "    return result.reset_index()\n",
    "\n",
    "\n",
    "def get_sim_data(sim_results, location, cause, measure):\n",
    "    if measure == 'Deaths':\n",
    "        result = get_deaths_due_to_rate(sim_results, location, cause)\n",
    "    elif measure == 'YLLs':\n",
    "        result = get_years_lived_rate(sim_results, location, cause, 'ylls')\n",
    "    elif measure == 'YLDs':\n",
    "        result = get_years_lived_rate(sim_results, location, cause, 'ylds')\n",
    "    elif measure == 'DALYs':\n",
    "        ylls = get_years_lived(sim_results, location, cause, 'ylls')\n",
    "        ylds = get_years_lived(sim_results, location, cause, 'ylds')\n",
    "        pt = get_person_time(sim_results, location, cause)\n",
    "        result = (ylls + ylds) / pt\n",
    "    else:\n",
    "        raise NotImplemented()\n",
    "    return reformat(result)\n",
    "        "
   ]
  },
  {
   "cell_type": "markdown",
   "metadata": {},
   "source": [
    "# Plotting comparisons"
   ]
  },
  {
   "cell_type": "code",
   "execution_count": 12,
   "metadata": {
    "scrolled": true
   },
   "outputs": [],
   "source": [
    "def make_comparison_subplots(gbd_result, sim_result, location, cause, measure):\n",
    "    gbd_male = gbd_result.loc[gbd_result.sex == 'Male']\n",
    "    sim_male = sim_result.loc[sim_result.sex == 'male']\n",
    "    gbd_female = gbd_result.loc[gbd_result.sex == 'Female']\n",
    "    sim_female = sim_result.loc[sim_result.sex == 'female']\n",
    "    \n",
    "    male_subplot = make_subplot(gbd_male, sim_male, sim_male.age_group_name.unique(),\n",
    "                               f\"{measure} for {cause} in Males in {location}\", 'blue')\n",
    "    female_subplot = make_subplot(gbd_female, sim_female, sim_female.age_group_name.unique(),\n",
    "                                  f\"{measure} for {cause} in Females in {location}\", 'red')\n",
    "    \n",
    "    show(column(male_subplot, female_subplot))\n",
    "\n",
    "\n",
    "def make_subplot(gbd_data, sim_data, x_range, title, color):\n",
    "    title_size = '18pt'\n",
    "    axis_label_size = '10pt'\n",
    "    axis_title_size = '12pt'\n",
    "    circle_size = 8\n",
    "    \n",
    "    subplot = figure(title=title, x_range=x_range, plot_width=900)\n",
    "    \n",
    "    subplot.title.text_font_size = title_size\n",
    "#     subplot.xaxis.major_label_orientation = -20  # should use Pi but who cares :'D\n",
    "    subplot.xaxis.major_label_text_font_size = axis_label_size\n",
    "    subplot.yaxis.major_label_text_font_size = axis_label_size\n",
    "    subplot.xaxis.axis_label = 'Age Groups'\n",
    "    subplot.xaxis.axis_label_text_font_size = axis_title_size\n",
    "    \n",
    "    subplot.circle(gbd_data.age_group_name, gbd_data.val, size=circle_size, legend='GBD')\n",
    "    subplot.varea(gbd_data.age_group_name, gbd_data.lower, gbd_data.upper, fill_alpha=0.1, legend='GBD UI')\n",
    "    \n",
    "    subplot.circle(sim_data.age_group_name, sim_data.val, color='green', size=circle_size, legend='Simulation')\n",
    "    subplot.varea(sim_data.age_group_name, sim_data.lower, sim_data.upper, fill_alpha=0.1, fill_color='green', \n",
    "                  legend='Simulation UI')\n",
    "    \n",
    "    subplot.legend.location = \"top_right\"\n",
    "    subplot.legend.click_policy=\"hide\"\n",
    "    \n",
    "    return subplot"
   ]
  },
  {
   "cell_type": "code",
   "execution_count": 13,
   "metadata": {},
   "outputs": [],
   "source": [
    "def plot(location, cause, measure):\n",
    "    sim_data = pd.read_hdf(RESULTS_DIRECTORIES[location] / 'output.hdf')\n",
    "    gbd_result = get_gbd_data(location, cause, measure)\n",
    "    sim_result = get_sim_data(sim_data, location, cause, measure)\n",
    "    make_comparison_subplots(gbd_result, sim_result, location, cause.name, measure)"
   ]
  },
  {
   "cell_type": "code",
   "execution_count": 14,
   "metadata": {},
   "outputs": [],
   "source": [
    "# plot(COUNTRIES[0], CAUSES[0], MEASURES[0])"
   ]
  },
  {
   "cell_type": "code",
   "execution_count": 15,
   "metadata": {},
   "outputs": [
    {
     "data": {
      "application/vnd.jupyter.widget-view+json": {
       "model_id": "0f9d9a4d284c4d4a8b7c96d148bd3717",
       "version_major": 2,
       "version_minor": 0
      },
      "text/plain": [
       "interactive(children=(Dropdown(description='location', options=('India', 'Bangladesh', 'Malawi', 'Mali', 'Tanz…"
      ]
     },
     "metadata": {},
     "output_type": "display_data"
    },
    {
     "data": {
      "text/plain": [
       "<function __main__.plot(location, cause, measure)>"
      ]
     },
     "execution_count": 15,
     "metadata": {},
     "output_type": "execute_result"
    }
   ],
   "source": [
    "interact(plot, location=COUNTRIES, cause=CAUSES, measure=MEASURES)"
   ]
  },
  {
   "cell_type": "code",
   "execution_count": null,
   "metadata": {},
   "outputs": [],
   "source": []
  },
  {
   "cell_type": "code",
   "execution_count": null,
   "metadata": {},
   "outputs": [],
   "source": []
  },
  {
   "cell_type": "code",
   "execution_count": null,
   "metadata": {},
   "outputs": [],
   "source": []
  },
  {
   "cell_type": "code",
   "execution_count": null,
   "metadata": {},
   "outputs": [],
   "source": []
  },
  {
   "cell_type": "code",
   "execution_count": null,
   "metadata": {},
   "outputs": [],
   "source": []
  },
  {
   "cell_type": "code",
   "execution_count": null,
   "metadata": {},
   "outputs": [],
   "source": []
  },
  {
   "cell_type": "code",
   "execution_count": null,
   "metadata": {},
   "outputs": [],
   "source": []
  },
  {
   "cell_type": "code",
   "execution_count": null,
   "metadata": {},
   "outputs": [],
   "source": []
  },
  {
   "cell_type": "code",
   "execution_count": null,
   "metadata": {},
   "outputs": [],
   "source": []
  },
  {
   "cell_type": "code",
   "execution_count": null,
   "metadata": {},
   "outputs": [],
   "source": []
  },
  {
   "cell_type": "code",
   "execution_count": null,
   "metadata": {},
   "outputs": [],
   "source": []
  },
  {
   "cell_type": "code",
   "execution_count": null,
   "metadata": {},
   "outputs": [],
   "source": []
  },
  {
   "cell_type": "code",
   "execution_count": null,
   "metadata": {},
   "outputs": [],
   "source": []
  },
  {
   "cell_type": "code",
   "execution_count": null,
   "metadata": {},
   "outputs": [],
   "source": []
  },
  {
   "cell_type": "code",
   "execution_count": null,
   "metadata": {},
   "outputs": [],
   "source": []
  },
  {
   "cell_type": "code",
   "execution_count": null,
   "metadata": {},
   "outputs": [],
   "source": []
  },
  {
   "cell_type": "code",
   "execution_count": null,
   "metadata": {},
   "outputs": [],
   "source": []
  },
  {
   "cell_type": "code",
   "execution_count": null,
   "metadata": {},
   "outputs": [],
   "source": []
  },
  {
   "cell_type": "code",
   "execution_count": null,
   "metadata": {},
   "outputs": [],
   "source": []
  },
  {
   "cell_type": "code",
   "execution_count": null,
   "metadata": {},
   "outputs": [],
   "source": []
  },
  {
   "cell_type": "code",
   "execution_count": null,
   "metadata": {},
   "outputs": [],
   "source": []
  },
  {
   "cell_type": "code",
   "execution_count": null,
   "metadata": {},
   "outputs": [],
   "source": []
  },
  {
   "cell_type": "code",
   "execution_count": null,
   "metadata": {},
   "outputs": [],
   "source": []
  },
  {
   "cell_type": "code",
   "execution_count": null,
   "metadata": {},
   "outputs": [],
   "source": []
  },
  {
   "cell_type": "code",
   "execution_count": null,
   "metadata": {},
   "outputs": [],
   "source": []
  },
  {
   "cell_type": "code",
   "execution_count": null,
   "metadata": {},
   "outputs": [],
   "source": []
  }
 ],
 "metadata": {
  "kernelspec": {
   "display_name": "vivarium_conic_sqlns",
   "language": "python",
   "name": "vivarium_conic_sqlns"
  },
  "language_info": {
   "codemirror_mode": {
    "name": "ipython",
    "version": 3
   },
   "file_extension": ".py",
   "mimetype": "text/x-python",
   "name": "python",
   "nbconvert_exporter": "python",
   "pygments_lexer": "ipython3",
   "version": "3.6.8"
  }
 },
 "nbformat": 4,
 "nbformat_minor": 2
}
