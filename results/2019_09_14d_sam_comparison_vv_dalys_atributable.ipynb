{
 "cells": [
  {
   "cell_type": "code",
   "execution_count": 1,
   "metadata": {},
   "outputs": [
    {
     "name": "stdout",
     "output_type": "stream",
     "text": [
      "Wed Sep 18 18:29:34 PDT 2019\r\n"
     ]
    }
   ],
   "source": [
    "import numpy as np, matplotlib.pyplot as plt, pandas as pd\n",
    "pd.set_option('display.max_rows', 8)\n",
    "!date\n",
    "\n",
    "%load_ext autoreload\n",
    "%autoreload 2"
   ]
  },
  {
   "cell_type": "markdown",
   "metadata": {},
   "source": [
    "# Table of DALYs in total population, due to wasting"
   ]
  },
  {
   "cell_type": "code",
   "execution_count": 2,
   "metadata": {},
   "outputs": [
    {
     "name": "stdout",
     "output_type": "stream",
     "text": [
      "/ihme/costeffectiveness/results/vivarium_conic_sam_comparison\n"
     ]
    }
   ],
   "source": [
    "%cd /share/costeffectiveness/results/vivarium_conic_sam_comparison"
   ]
  },
  {
   "cell_type": "code",
   "execution_count": 3,
   "metadata": {},
   "outputs": [],
   "source": [
    "import glob\n",
    "# sorted(glob.glob('*/*/output.hdf'))"
   ]
  },
  {
   "cell_type": "code",
   "execution_count": 4,
   "metadata": {},
   "outputs": [
    {
     "data": {
      "text/plain": [
       "{'India': 'vivarium_conic_sam_comparison_India/2019_09_12_14_36_19/output.hdf',\n",
       " 'Bangladesh': 'vivarium_conic_sam_comparison_Bangladesh/2019_09_12_16_06_24/output.hdf',\n",
       " 'Pakistan': 'vivarium_conic_sam_comparison_Pakistan/2019_09_12_14_36_44/output.hdf',\n",
       " 'Malawi': 'vivarium_conic_sam_comparison_Malawi/2019_09_12_14_36_29/output.hdf',\n",
       " 'Tanzania': 'vivarium_conic_sam_comparison_Tanzania/2019_09_12_14_36_50/output.hdf',\n",
       " 'Mali': 'vivarium_conic_sam_comparison_Mali/2019_09_12_14_36_37/output.hdf'}"
      ]
     },
     "execution_count": 4,
     "metadata": {},
     "output_type": "execute_result"
    }
   ],
   "source": [
    "location_list = ['India', 'Bangladesh', 'Pakistan', 'Malawi', 'Tanzania', 'Mali']\n",
    "fname = {}\n",
    "for loc in location_list:\n",
    "    fname[loc] = sorted(glob.glob(f'vivarium_conic_sam_comparison_{loc}/*/output.hdf'))[-1]\n",
    "fname"
   ]
  },
  {
   "cell_type": "code",
   "execution_count": 5,
   "metadata": {},
   "outputs": [
    {
     "name": "stdout",
     "output_type": "stream",
     "text": [
      "India 4000\n",
      "Bangladesh 4000\n",
      "Pakistan 4000\n",
      "Malawi 4000\n",
      "Tanzania 4000\n",
      "Mali 4000\n"
     ]
    }
   ],
   "source": [
    "df = {}\n",
    "for loc in location_list:\n",
    "    df[loc] = pd.read_hdf(fname[loc])\n",
    "    print(loc, len(df[loc]))"
   ]
  },
  {
   "cell_type": "code",
   "execution_count": 6,
   "metadata": {},
   "outputs": [],
   "source": [
    "for loc in location_list:\n",
    "    del df[loc]['random_seed']"
   ]
  },
  {
   "cell_type": "code",
   "execution_count": 7,
   "metadata": {},
   "outputs": [
    {
     "name": "stdout",
     "output_type": "stream",
     "text": [
      "India has 400 groups, with 10.00 reps per group\n",
      "Bangladesh has 400 groups, with 10.00 reps per group\n",
      "Pakistan has 400 groups, with 10.00 reps per group\n",
      "Malawi has 400 groups, with 10.00 reps per group\n",
      "Tanzania has 400 groups, with 10.00 reps per group\n",
      "Mali has 400 groups, with 10.00 reps per group\n"
     ]
    }
   ],
   "source": [
    "scenarios = ['interventions.BEP_intervention.coverage_proportion',\n",
    " 'interventions.SQ_LNS_intervention.coverage_proportion',\n",
    " 'interventions.TF_SAM_intervention.coverage_proportion',]\n",
    "\n",
    "for loc in location_list:\n",
    "    g = df[loc].reset_index().groupby(scenarios + ['input_draw_number'])\n",
    "    print(f'{loc} has {len(g.groups)} groups, with {len(df[loc])/len(g.groups):.2f} reps per group')\n",
    "    df[loc] = g.sum()\n"
   ]
  },
  {
   "cell_type": "code",
   "execution_count": 8,
   "metadata": {},
   "outputs": [],
   "source": [
    "baseline = (0,0,0)\n",
    "bep = (.8, 0, 0)\n",
    "sqlns = (0, .8, 0)\n",
    "tfsam = (0, 0, .8)"
   ]
  },
  {
   "cell_type": "code",
   "execution_count": 9,
   "metadata": {},
   "outputs": [
    {
     "data": {
      "text/plain": [
       "['person_time_in_child_stunting_cat1',\n",
       " 'person_time_in_child_stunting_cat2',\n",
       " 'person_time_in_child_stunting_cat3',\n",
       " 'person_time_in_child_stunting_cat4',\n",
       " 'person_time_in_child_stunting_not_eligible',\n",
       " 'simulation_run_time']"
      ]
     },
     "execution_count": 9,
     "metadata": {},
     "output_type": "execute_result"
    }
   ],
   "source": [
    "sorted(df[loc].filter(like='time').columns)"
   ]
  },
  {
   "cell_type": "code",
   "execution_count": 10,
   "metadata": {},
   "outputs": [],
   "source": [
    "for loc in location_list:\n",
    "    df[loc]['total_person_time'] = df[loc].filter(like='time').sum(axis=1)"
   ]
  },
  {
   "cell_type": "code",
   "execution_count": 11,
   "metadata": {},
   "outputs": [
    {
     "data": {
      "text/plain": [
       "count      100.000000\n",
       "mean      7234.432511\n",
       "std       1074.087565\n",
       "min       4414.778634\n",
       "25%       6463.481466\n",
       "50%       7191.665058\n",
       "75%       7904.617703\n",
       "max      10172.667328\n",
       "dtype: float64"
      ]
     },
     "execution_count": 11,
     "metadata": {},
     "output_type": "execute_result"
    }
   ],
   "source": [
    "scenario_map = dict(baseline=baseline, bep=bep, sqlns=sqlns, tfsam=tfsam)\n",
    "cause_list = ('lower_respiratory_infections diarrheal_diseases measles protein_energy_malnutrition other_causes '\n",
    "    + 'neonatal_preterm_birth neonatal_encephalopathy_due_to_birth_asphyxia_and_trauma hemolytic_disease_and_other_neonatal_jaundice neonatal_sepsis_and_other_neonatal_infections')\\\n",
    "        .split()\n",
    "\n",
    "def dalys_per_100k(df, scenario, cat):\n",
    "    \n",
    "    scenario = scenario_map[scenario]\n",
    "    \n",
    "    # sam person years\n",
    "    py = df.loc[scenario, 'total_person_time']\n",
    "    dalys = pd.Series(0, index=py.index)\n",
    "    for outcome in ['ylls', 'ylds']:\n",
    "        for cause in cause_list:\n",
    "            if outcome == 'ylds' and cause == 'other_causes':\n",
    "                continue # YLDs for other causes is not tracked\n",
    "            key = f'{outcome}_due_to_{cause}_in_child_stunting_{cat}'\n",
    "\n",
    "            dalys += df.loc[scenario, key]\n",
    "    \n",
    "    return 100_000 * dalys / py\n",
    "dalys_per_100k(df[loc], 'baseline', 'cat1').describe()"
   ]
  },
  {
   "cell_type": "code",
   "execution_count": 12,
   "metadata": {},
   "outputs": [],
   "source": [
    "import pymc as pm"
   ]
  },
  {
   "cell_type": "code",
   "execution_count": 13,
   "metadata": {},
   "outputs": [],
   "source": [
    "def my_formatted_output_pct(s):\n",
    "    mu = f'{s.mean():.2f}'\n",
    "    lb, ub = pm.utils.hpd(s, .05)\n",
    "    lb = f'{lb:.2f}'\n",
    "    ub = f'{ub:.2f}'\n",
    "#     return [f'{mu} ({lb}, {ub})']\n",
    "    return {'mean':mu, 'lb':lb, 'ub':ub}"
   ]
  },
  {
   "cell_type": "code",
   "execution_count": 15,
   "metadata": {},
   "outputs": [
    {
     "data": {
      "text/plain": [
       "{'mean': '13090'}"
      ]
     },
     "execution_count": 15,
     "metadata": {},
     "output_type": "execute_result"
    }
   ],
   "source": [
    "def my_formatted_output_dalys(s):\n",
    "    mu = f'{np.round(s.mean(), 1):.0f}'\n",
    "    lb, ub = pm.utils.hpd(s, .05)\n",
    "    lb = f'{np.round(lb, 1):.0f}'\n",
    "    ub = f'{np.round(ub, 1):.0f}'\n",
    "#     return [f'{mu} ({lb}, {ub})']\n",
    "    return {'mean':mu}#, 'lb':lb, 'ub':ub}\n",
    "my_formatted_output_dalys(dalys_per_100k(df[loc], 'baseline', 'cat2'))"
   ]
  },
  {
   "cell_type": "code",
   "execution_count": null,
   "metadata": {},
   "outputs": [],
   "source": [
    "results = {}\n",
    "\n",
    "for cat in ['cat1', 'cat2']:\n",
    "    for loc in location_list:\n",
    "        val_0 = dalys_per_100k(df[loc], 'baseline', cat)\n",
    "        for scenario in ['baseline', 'bep', 'sqlns', 'tfsam']:\n",
    "            val_1 = dalys_per_100k(df[loc], scenario, cat)\n",
    "            results[cat, loc, scenario, 'dalys'] = my_formatted_output_dalys(val_1)\n",
    "            if scenario != 'baseline':\n",
    "                results[cat, loc, scenario, 'dalys_averted'] = my_formatted_output_dalys(val_0-val_1)\n",
    "                results[cat, loc, scenario, 'pct_averted'] = my_formatted_output_pct(100*(val_0-val_1)/val_0)\n",
    "results = pd.DataFrame(results)        "
   ]
  },
  {
   "cell_type": "code",
   "execution_count": null,
   "metadata": {},
   "outputs": [],
   "source": [
    "results = results.T.unstack().unstack().dropna(axis=1, how='all')"
   ]
  },
  {
   "cell_type": "code",
   "execution_count": null,
   "metadata": {},
   "outputs": [],
   "source": [
    "# col_to_sort = (0, 'pct', 'baseline')\n",
    "col_to_sort = ('mean', 'dalys', 'baseline')\n",
    "results.loc['cat1'].sort_values(col_to_sort, ascending=False)"
   ]
  },
  {
   "cell_type": "code",
   "execution_count": null,
   "metadata": {},
   "outputs": [],
   "source": [
    "results.loc['cat1'].loc[location_list, ('mean', 'dalys_averted')] # SAM DALYs per total person years"
   ]
  },
  {
   "cell_type": "code",
   "execution_count": null,
   "metadata": {},
   "outputs": [],
   "source": [
    "results.loc['cat2'].loc[location_list, ('mean', 'dalys_averted')] # MAM DALYs per total person years"
   ]
  },
  {
   "cell_type": "code",
   "execution_count": null,
   "metadata": {},
   "outputs": [],
   "source": []
  }
 ],
 "metadata": {
  "kernelspec": {
   "display_name": "dismod_mr",
   "language": "python",
   "name": "dismod_mr"
  },
  "language_info": {
   "codemirror_mode": {
    "name": "ipython",
    "version": 3
   },
   "file_extension": ".py",
   "mimetype": "text/x-python",
   "name": "python",
   "nbconvert_exporter": "python",
   "pygments_lexer": "ipython3",
   "version": "3.6.8"
  }
 },
 "nbformat": 4,
 "nbformat_minor": 2
}
