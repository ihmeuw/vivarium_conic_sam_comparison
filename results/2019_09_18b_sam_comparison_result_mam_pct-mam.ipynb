{
 "cells": [
  {
   "cell_type": "code",
   "execution_count": 1,
   "metadata": {},
   "outputs": [
    {
     "name": "stdout",
     "output_type": "stream",
     "text": [
      "Wed Sep 18 17:00:31 PDT 2019\r\n"
     ]
    }
   ],
   "source": [
    "import numpy as np, matplotlib.pyplot as plt, pandas as pd\n",
    "pd.set_option('display.max_rows', 8)\n",
    "!date\n",
    "\n",
    "%load_ext autoreload\n",
    "%autoreload 2"
   ]
  },
  {
   "cell_type": "markdown",
   "metadata": {},
   "source": [
    "# Table of % MAM and delta MAM by scenario and by location"
   ]
  },
  {
   "cell_type": "code",
   "execution_count": 2,
   "metadata": {},
   "outputs": [
    {
     "name": "stdout",
     "output_type": "stream",
     "text": [
      "/ihme/costeffectiveness/results/vivarium_conic_sam_comparison\n"
     ]
    }
   ],
   "source": [
    "%cd /share/costeffectiveness/results/vivarium_conic_sam_comparison"
   ]
  },
  {
   "cell_type": "code",
   "execution_count": 3,
   "metadata": {},
   "outputs": [],
   "source": [
    "import glob\n",
    "# sorted(glob.glob('*/*/output.hdf'))"
   ]
  },
  {
   "cell_type": "code",
   "execution_count": 4,
   "metadata": {},
   "outputs": [
    {
     "data": {
      "text/plain": [
       "{'India': 'vivarium_conic_sam_comparison_India/2019_09_12_14_36_19/output.hdf',\n",
       " 'Bangladesh': 'vivarium_conic_sam_comparison_Bangladesh/2019_09_12_16_06_24/output.hdf',\n",
       " 'Pakistan': 'vivarium_conic_sam_comparison_Pakistan/2019_09_12_14_36_44/output.hdf',\n",
       " 'Tanzania': 'vivarium_conic_sam_comparison_Tanzania/2019_09_12_14_36_50/output.hdf',\n",
       " 'Malawi': 'vivarium_conic_sam_comparison_Malawi/2019_09_12_14_36_29/output.hdf',\n",
       " 'Mali': 'vivarium_conic_sam_comparison_Mali/2019_09_12_14_36_37/output.hdf'}"
      ]
     },
     "execution_count": 4,
     "metadata": {},
     "output_type": "execute_result"
    }
   ],
   "source": [
    "location_list = ['India', 'Bangladesh', 'Pakistan', 'Tanzania', 'Malawi', 'Mali']\n",
    "fname = {}\n",
    "for loc in location_list:\n",
    "    fname[loc] = sorted(glob.glob(f'vivarium_conic_sam_comparison_{loc}/*/output.hdf'))[-1]\n",
    "fname"
   ]
  },
  {
   "cell_type": "code",
   "execution_count": 5,
   "metadata": {},
   "outputs": [
    {
     "name": "stdout",
     "output_type": "stream",
     "text": [
      "India 4000\n",
      "Bangladesh 4000\n",
      "Pakistan 4000\n",
      "Tanzania 4000\n",
      "Malawi 4000\n",
      "Mali 4000\n"
     ]
    }
   ],
   "source": [
    "df = {}\n",
    "for loc in location_list:\n",
    "    df[loc] = pd.read_hdf(fname[loc])\n",
    "    print(loc, len(df[loc]))"
   ]
  },
  {
   "cell_type": "code",
   "execution_count": 6,
   "metadata": {},
   "outputs": [],
   "source": [
    "for loc in location_list:\n",
    "    del df[loc]['random_seed']"
   ]
  },
  {
   "cell_type": "code",
   "execution_count": 7,
   "metadata": {},
   "outputs": [
    {
     "name": "stdout",
     "output_type": "stream",
     "text": [
      "India has 400 groups, with 10.00 reps per group\n",
      "Bangladesh has 400 groups, with 10.00 reps per group\n",
      "Pakistan has 400 groups, with 10.00 reps per group\n",
      "Tanzania has 400 groups, with 10.00 reps per group\n",
      "Malawi has 400 groups, with 10.00 reps per group\n",
      "Mali has 400 groups, with 10.00 reps per group\n"
     ]
    }
   ],
   "source": [
    "scenarios = ['interventions.BEP_intervention.coverage_proportion',\n",
    " 'interventions.SQ_LNS_intervention.coverage_proportion',\n",
    " 'interventions.TF_SAM_intervention.coverage_proportion',]\n",
    "\n",
    "for loc in location_list:\n",
    "    g = df[loc].reset_index().groupby(scenarios + ['input_draw_number'])\n",
    "    print(f'{loc} has {len(g.groups)} groups, with {len(df[loc])/len(g.groups):.2f} reps per group')\n",
    "    df[loc] = g.sum()\n"
   ]
  },
  {
   "cell_type": "code",
   "execution_count": 8,
   "metadata": {},
   "outputs": [],
   "source": [
    "def scenario_map_generator():\n",
    "    baseline = (0,0,0)\n",
    "    bep = (.8, 0, 0)\n",
    "    sqlns = (0, .8, 0)\n",
    "    tfsam = (0, 0, .8)\n",
    "    scenario_map = dict(baseline=baseline, bep=bep, sqlns=sqlns, tfsam=tfsam)\n",
    "\n",
    "    return scenario_map\n",
    "scenario_map = scenario_map_generator()"
   ]
  },
  {
   "cell_type": "code",
   "execution_count": 9,
   "metadata": {},
   "outputs": [
    {
     "data": {
      "text/plain": [
       "count    100.000000\n",
       "mean       8.477533\n",
       "std        0.280323\n",
       "min        7.897118\n",
       "25%        8.288129\n",
       "50%        8.440403\n",
       "75%        8.647390\n",
       "max        9.387240\n",
       "Name: pct_mam, dtype: float64"
      ]
     },
     "execution_count": 9,
     "metadata": {},
     "output_type": "execute_result"
    }
   ],
   "source": [
    "def pct_mam(df, scenario):\n",
    "    \n",
    "    scenario = scenario_map[scenario]\n",
    "    \n",
    "    t = df.loc[scenario].filter(like='child_wasting').div(\n",
    "        df.loc[scenario].filter(like='child_wasting').sum(axis=1), axis='rows')\n",
    "\n",
    "    t = 100*t[f'child_wasting_cat2_exposed']\n",
    "    t.name = 'pct_mam'\n",
    "    \n",
    "    return t\n",
    "pct_mam(df[loc], 'baseline').describe()"
   ]
  },
  {
   "cell_type": "code",
   "execution_count": 10,
   "metadata": {},
   "outputs": [
    {
     "data": {
      "text/plain": [
       "count    100.00\n",
       "mean       9.76\n",
       "std        0.08\n",
       "min        9.57\n",
       "2.5%       9.61\n",
       "50%        9.76\n",
       "97.5%      9.92\n",
       "max        9.99\n",
       "Name: pct_mam, dtype: float64"
      ]
     },
     "execution_count": 10,
     "metadata": {},
     "output_type": "execute_result"
    }
   ],
   "source": [
    "np.round(pct_mam(df['India'], 'baseline').describe(percentiles=[.025, .975]), 2)"
   ]
  },
  {
   "cell_type": "code",
   "execution_count": 11,
   "metadata": {},
   "outputs": [
    {
     "data": {
      "text/plain": [
       "count    100.00\n",
       "mean       8.48\n",
       "std        0.28\n",
       "min        7.90\n",
       "2.5%       8.04\n",
       "50%        8.44\n",
       "97.5%      9.05\n",
       "max        9.39\n",
       "Name: pct_mam, dtype: float64"
      ]
     },
     "execution_count": 11,
     "metadata": {},
     "output_type": "execute_result"
    }
   ],
   "source": [
    "np.round(pct_mam(df['Mali'], 'baseline').describe(percentiles=[.025, .975]), 2)"
   ]
  },
  {
   "cell_type": "code",
   "execution_count": 12,
   "metadata": {},
   "outputs": [],
   "source": [
    "import pymc as pm"
   ]
  },
  {
   "cell_type": "code",
   "execution_count": 13,
   "metadata": {},
   "outputs": [
    {
     "data": {
      "text/plain": [
       "{'mean': '8.48', 'lb': '8.06', 'ub': '9.07'}"
      ]
     },
     "execution_count": 13,
     "metadata": {},
     "output_type": "execute_result"
    }
   ],
   "source": [
    "def my_formatted_output(s):\n",
    "    mu = f'{s.mean():.2f}'\n",
    "    lb, ub = pm.utils.hpd(s, .05)\n",
    "    lb = f'{lb:.2f}'\n",
    "    ub = f'{ub:.2f}'\n",
    "#     return [f'{mu} ({lb}, {ub})']\n",
    "    return {'mean':mu, 'lb':lb, 'ub':ub}\n",
    "my_formatted_output(pct_mam(df['Mali'], 'baseline'))"
   ]
  },
  {
   "cell_type": "code",
   "execution_count": 14,
   "metadata": {},
   "outputs": [
    {
     "data": {
      "text/plain": [
       "{'mean': '9.76', 'lb': '9.61', 'ub': '9.93'}"
      ]
     },
     "execution_count": 14,
     "metadata": {},
     "output_type": "execute_result"
    }
   ],
   "source": [
    "my_formatted_output(pct_mam(df['India'], 'baseline'))"
   ]
  },
  {
   "cell_type": "code",
   "execution_count": 15,
   "metadata": {},
   "outputs": [],
   "source": [
    "results = {}\n",
    "\n",
    "for loc in location_list:\n",
    "    mam_0 = pct_mam(df[loc], 'baseline')\n",
    "    for scenario in ['baseline', 'bep', 'sqlns', 'tfsam']:\n",
    "        mam_1 = pct_mam(df[loc], scenario)\n",
    "        results[loc, scenario, 'pct'] = my_formatted_output(mam_1)\n",
    "        if scenario != 'baseline':\n",
    "            results[loc, scenario, 'delta_abs'] = my_formatted_output(mam_0-mam_1)\n",
    "            results[loc, scenario, 'delta_rel'] = my_formatted_output(100*(mam_0-mam_1)/mam_0)\n",
    "results = pd.DataFrame(results)        "
   ]
  },
  {
   "cell_type": "code",
   "execution_count": 16,
   "metadata": {},
   "outputs": [],
   "source": [
    "results = results.T.unstack().unstack().dropna(axis=1, how='all')"
   ]
  },
  {
   "cell_type": "code",
   "execution_count": 17,
   "metadata": {},
   "outputs": [
    {
     "data": {
      "text/html": [
       "<div>\n",
       "<style scoped>\n",
       "    .dataframe tbody tr th:only-of-type {\n",
       "        vertical-align: middle;\n",
       "    }\n",
       "\n",
       "    .dataframe tbody tr th {\n",
       "        vertical-align: top;\n",
       "    }\n",
       "\n",
       "    .dataframe thead tr th {\n",
       "        text-align: left;\n",
       "    }\n",
       "</style>\n",
       "<table border=\"1\" class=\"dataframe\">\n",
       "  <thead>\n",
       "    <tr>\n",
       "      <th></th>\n",
       "      <th colspan=\"10\" halign=\"left\">mean</th>\n",
       "      <th>...</th>\n",
       "      <th colspan=\"10\" halign=\"left\">ub</th>\n",
       "    </tr>\n",
       "    <tr>\n",
       "      <th></th>\n",
       "      <th colspan=\"3\" halign=\"left\">delta_abs</th>\n",
       "      <th colspan=\"3\" halign=\"left\">delta_rel</th>\n",
       "      <th colspan=\"4\" halign=\"left\">pct</th>\n",
       "      <th>...</th>\n",
       "      <th colspan=\"3\" halign=\"left\">delta_abs</th>\n",
       "      <th colspan=\"3\" halign=\"left\">delta_rel</th>\n",
       "      <th colspan=\"4\" halign=\"left\">pct</th>\n",
       "    </tr>\n",
       "    <tr>\n",
       "      <th></th>\n",
       "      <th>bep</th>\n",
       "      <th>sqlns</th>\n",
       "      <th>tfsam</th>\n",
       "      <th>bep</th>\n",
       "      <th>sqlns</th>\n",
       "      <th>tfsam</th>\n",
       "      <th>baseline</th>\n",
       "      <th>bep</th>\n",
       "      <th>sqlns</th>\n",
       "      <th>tfsam</th>\n",
       "      <th>...</th>\n",
       "      <th>bep</th>\n",
       "      <th>sqlns</th>\n",
       "      <th>tfsam</th>\n",
       "      <th>bep</th>\n",
       "      <th>sqlns</th>\n",
       "      <th>tfsam</th>\n",
       "      <th>baseline</th>\n",
       "      <th>bep</th>\n",
       "      <th>sqlns</th>\n",
       "      <th>tfsam</th>\n",
       "    </tr>\n",
       "  </thead>\n",
       "  <tbody>\n",
       "    <tr>\n",
       "      <th>India</th>\n",
       "      <td>1.04</td>\n",
       "      <td>0.28</td>\n",
       "      <td>-1.35</td>\n",
       "      <td>10.64</td>\n",
       "      <td>2.89</td>\n",
       "      <td>-13.83</td>\n",
       "      <td>9.76</td>\n",
       "      <td>8.72</td>\n",
       "      <td>9.48</td>\n",
       "      <td>11.11</td>\n",
       "      <td>...</td>\n",
       "      <td>1.10</td>\n",
       "      <td>0.39</td>\n",
       "      <td>-1.31</td>\n",
       "      <td>11.32</td>\n",
       "      <td>3.92</td>\n",
       "      <td>-13.38</td>\n",
       "      <td>9.93</td>\n",
       "      <td>8.87</td>\n",
       "      <td>9.66</td>\n",
       "      <td>11.25</td>\n",
       "    </tr>\n",
       "    <tr>\n",
       "      <th>Bangladesh</th>\n",
       "      <td>1.39</td>\n",
       "      <td>0.40</td>\n",
       "      <td>-0.75</td>\n",
       "      <td>14.26</td>\n",
       "      <td>4.12</td>\n",
       "      <td>-7.72</td>\n",
       "      <td>9.71</td>\n",
       "      <td>8.33</td>\n",
       "      <td>9.31</td>\n",
       "      <td>10.46</td>\n",
       "      <td>...</td>\n",
       "      <td>1.61</td>\n",
       "      <td>0.56</td>\n",
       "      <td>-0.50</td>\n",
       "      <td>15.16</td>\n",
       "      <td>5.75</td>\n",
       "      <td>-5.73</td>\n",
       "      <td>10.42</td>\n",
       "      <td>8.92</td>\n",
       "      <td>10.15</td>\n",
       "      <td>11.42</td>\n",
       "    </tr>\n",
       "    <tr>\n",
       "      <th>Pakistan</th>\n",
       "      <td>1.27</td>\n",
       "      <td>0.35</td>\n",
       "      <td>-0.69</td>\n",
       "      <td>14.02</td>\n",
       "      <td>3.92</td>\n",
       "      <td>-7.57</td>\n",
       "      <td>9.04</td>\n",
       "      <td>7.77</td>\n",
       "      <td>8.68</td>\n",
       "      <td>9.72</td>\n",
       "      <td>...</td>\n",
       "      <td>1.40</td>\n",
       "      <td>0.45</td>\n",
       "      <td>-0.37</td>\n",
       "      <td>15.25</td>\n",
       "      <td>5.56</td>\n",
       "      <td>-4.46</td>\n",
       "      <td>9.47</td>\n",
       "      <td>8.17</td>\n",
       "      <td>9.18</td>\n",
       "      <td>10.31</td>\n",
       "    </tr>\n",
       "    <tr>\n",
       "      <th>Mali</th>\n",
       "      <td>1.14</td>\n",
       "      <td>0.31</td>\n",
       "      <td>-0.75</td>\n",
       "      <td>13.39</td>\n",
       "      <td>3.62</td>\n",
       "      <td>-8.85</td>\n",
       "      <td>8.48</td>\n",
       "      <td>7.34</td>\n",
       "      <td>8.17</td>\n",
       "      <td>9.23</td>\n",
       "      <td>...</td>\n",
       "      <td>1.26</td>\n",
       "      <td>0.40</td>\n",
       "      <td>-0.54</td>\n",
       "      <td>14.47</td>\n",
       "      <td>4.99</td>\n",
       "      <td>-6.49</td>\n",
       "      <td>9.07</td>\n",
       "      <td>7.78</td>\n",
       "      <td>8.74</td>\n",
       "      <td>9.87</td>\n",
       "    </tr>\n",
       "    <tr>\n",
       "      <th>Tanzania</th>\n",
       "      <td>0.68</td>\n",
       "      <td>0.19</td>\n",
       "      <td>-0.32</td>\n",
       "      <td>17.01</td>\n",
       "      <td>4.68</td>\n",
       "      <td>-7.97</td>\n",
       "      <td>3.98</td>\n",
       "      <td>3.30</td>\n",
       "      <td>3.79</td>\n",
       "      <td>4.30</td>\n",
       "      <td>...</td>\n",
       "      <td>0.71</td>\n",
       "      <td>0.25</td>\n",
       "      <td>-0.22</td>\n",
       "      <td>18.27</td>\n",
       "      <td>6.28</td>\n",
       "      <td>-6.00</td>\n",
       "      <td>4.17</td>\n",
       "      <td>3.49</td>\n",
       "      <td>4.01</td>\n",
       "      <td>4.52</td>\n",
       "    </tr>\n",
       "    <tr>\n",
       "      <th>Malawi</th>\n",
       "      <td>0.62</td>\n",
       "      <td>0.18</td>\n",
       "      <td>-0.24</td>\n",
       "      <td>17.89</td>\n",
       "      <td>5.05</td>\n",
       "      <td>-6.78</td>\n",
       "      <td>3.48</td>\n",
       "      <td>2.86</td>\n",
       "      <td>3.31</td>\n",
       "      <td>3.72</td>\n",
       "      <td>...</td>\n",
       "      <td>0.68</td>\n",
       "      <td>0.24</td>\n",
       "      <td>-0.15</td>\n",
       "      <td>19.23</td>\n",
       "      <td>6.71</td>\n",
       "      <td>-4.58</td>\n",
       "      <td>3.79</td>\n",
       "      <td>3.11</td>\n",
       "      <td>3.63</td>\n",
       "      <td>4.06</td>\n",
       "    </tr>\n",
       "  </tbody>\n",
       "</table>\n",
       "<p>6 rows × 30 columns</p>\n",
       "</div>"
      ],
      "text/plain": [
       "                mean                                                      \\\n",
       "           delta_abs              delta_rel                    pct         \n",
       "                 bep sqlns  tfsam       bep sqlns   tfsam baseline   bep   \n",
       "India           1.04  0.28  -1.35     10.64  2.89  -13.83     9.76  8.72   \n",
       "Bangladesh      1.39  0.40  -0.75     14.26  4.12   -7.72     9.71  8.33   \n",
       "Pakistan        1.27  0.35  -0.69     14.02  3.92   -7.57     9.04  7.77   \n",
       "Mali            1.14  0.31  -0.75     13.39  3.62   -8.85     8.48  7.34   \n",
       "Tanzania        0.68  0.19  -0.32     17.01  4.68   -7.97     3.98  3.30   \n",
       "Malawi          0.62  0.18  -0.24     17.89  5.05   -6.78     3.48  2.86   \n",
       "\n",
       "                         ...        ub                                       \\\n",
       "                         ... delta_abs              delta_rel                 \n",
       "           sqlns  tfsam  ...       bep sqlns  tfsam       bep sqlns   tfsam   \n",
       "India       9.48  11.11  ...      1.10  0.39  -1.31     11.32  3.92  -13.38   \n",
       "Bangladesh  9.31  10.46  ...      1.61  0.56  -0.50     15.16  5.75   -5.73   \n",
       "Pakistan    8.68   9.72  ...      1.40  0.45  -0.37     15.25  5.56   -4.46   \n",
       "Mali        8.17   9.23  ...      1.26  0.40  -0.54     14.47  4.99   -6.49   \n",
       "Tanzania    3.79   4.30  ...      0.71  0.25  -0.22     18.27  6.28   -6.00   \n",
       "Malawi      3.31   3.72  ...      0.68  0.24  -0.15     19.23  6.71   -4.58   \n",
       "\n",
       "                                         \n",
       "                pct                      \n",
       "           baseline   bep  sqlns  tfsam  \n",
       "India          9.93  8.87   9.66  11.25  \n",
       "Bangladesh    10.42  8.92  10.15  11.42  \n",
       "Pakistan       9.47  8.17   9.18  10.31  \n",
       "Mali           9.07  7.78   8.74   9.87  \n",
       "Tanzania       4.17  3.49   4.01   4.52  \n",
       "Malawi         3.79  3.11   3.63   4.06  \n",
       "\n",
       "[6 rows x 30 columns]"
      ]
     },
     "execution_count": 17,
     "metadata": {},
     "output_type": "execute_result"
    }
   ],
   "source": [
    "col_to_sort = (0, 'pct', 'baseline')\n",
    "col_to_sort = ('mean', 'pct', 'baseline')\n",
    "results.sort_values(col_to_sort, ascending=False)"
   ]
  },
  {
   "cell_type": "code",
   "execution_count": 18,
   "metadata": {},
   "outputs": [
    {
     "data": {
      "text/html": [
       "<div>\n",
       "<style scoped>\n",
       "    .dataframe tbody tr th:only-of-type {\n",
       "        vertical-align: middle;\n",
       "    }\n",
       "\n",
       "    .dataframe tbody tr th {\n",
       "        vertical-align: top;\n",
       "    }\n",
       "\n",
       "    .dataframe thead tr th {\n",
       "        text-align: left;\n",
       "    }\n",
       "</style>\n",
       "<table border=\"1\" class=\"dataframe\">\n",
       "  <thead>\n",
       "    <tr>\n",
       "      <th></th>\n",
       "      <th colspan=\"10\" halign=\"left\">mean</th>\n",
       "      <th>...</th>\n",
       "      <th colspan=\"10\" halign=\"left\">ub</th>\n",
       "    </tr>\n",
       "    <tr>\n",
       "      <th></th>\n",
       "      <th colspan=\"3\" halign=\"left\">delta_abs</th>\n",
       "      <th colspan=\"3\" halign=\"left\">delta_rel</th>\n",
       "      <th colspan=\"4\" halign=\"left\">pct</th>\n",
       "      <th>...</th>\n",
       "      <th colspan=\"3\" halign=\"left\">delta_abs</th>\n",
       "      <th colspan=\"3\" halign=\"left\">delta_rel</th>\n",
       "      <th colspan=\"4\" halign=\"left\">pct</th>\n",
       "    </tr>\n",
       "    <tr>\n",
       "      <th></th>\n",
       "      <th>bep</th>\n",
       "      <th>sqlns</th>\n",
       "      <th>tfsam</th>\n",
       "      <th>bep</th>\n",
       "      <th>sqlns</th>\n",
       "      <th>tfsam</th>\n",
       "      <th>baseline</th>\n",
       "      <th>bep</th>\n",
       "      <th>sqlns</th>\n",
       "      <th>tfsam</th>\n",
       "      <th>...</th>\n",
       "      <th>bep</th>\n",
       "      <th>sqlns</th>\n",
       "      <th>tfsam</th>\n",
       "      <th>bep</th>\n",
       "      <th>sqlns</th>\n",
       "      <th>tfsam</th>\n",
       "      <th>baseline</th>\n",
       "      <th>bep</th>\n",
       "      <th>sqlns</th>\n",
       "      <th>tfsam</th>\n",
       "    </tr>\n",
       "  </thead>\n",
       "  <tbody>\n",
       "    <tr>\n",
       "      <th>India</th>\n",
       "      <td>1.04</td>\n",
       "      <td>0.28</td>\n",
       "      <td>-1.35</td>\n",
       "      <td>10.64</td>\n",
       "      <td>2.89</td>\n",
       "      <td>-13.83</td>\n",
       "      <td>9.76</td>\n",
       "      <td>8.72</td>\n",
       "      <td>9.48</td>\n",
       "      <td>11.11</td>\n",
       "      <td>...</td>\n",
       "      <td>1.10</td>\n",
       "      <td>0.39</td>\n",
       "      <td>-1.31</td>\n",
       "      <td>11.32</td>\n",
       "      <td>3.92</td>\n",
       "      <td>-13.38</td>\n",
       "      <td>9.93</td>\n",
       "      <td>8.87</td>\n",
       "      <td>9.66</td>\n",
       "      <td>11.25</td>\n",
       "    </tr>\n",
       "    <tr>\n",
       "      <th>Bangladesh</th>\n",
       "      <td>1.39</td>\n",
       "      <td>0.40</td>\n",
       "      <td>-0.75</td>\n",
       "      <td>14.26</td>\n",
       "      <td>4.12</td>\n",
       "      <td>-7.72</td>\n",
       "      <td>9.71</td>\n",
       "      <td>8.33</td>\n",
       "      <td>9.31</td>\n",
       "      <td>10.46</td>\n",
       "      <td>...</td>\n",
       "      <td>1.61</td>\n",
       "      <td>0.56</td>\n",
       "      <td>-0.50</td>\n",
       "      <td>15.16</td>\n",
       "      <td>5.75</td>\n",
       "      <td>-5.73</td>\n",
       "      <td>10.42</td>\n",
       "      <td>8.92</td>\n",
       "      <td>10.15</td>\n",
       "      <td>11.42</td>\n",
       "    </tr>\n",
       "    <tr>\n",
       "      <th>Pakistan</th>\n",
       "      <td>1.27</td>\n",
       "      <td>0.35</td>\n",
       "      <td>-0.69</td>\n",
       "      <td>14.02</td>\n",
       "      <td>3.92</td>\n",
       "      <td>-7.57</td>\n",
       "      <td>9.04</td>\n",
       "      <td>7.77</td>\n",
       "      <td>8.68</td>\n",
       "      <td>9.72</td>\n",
       "      <td>...</td>\n",
       "      <td>1.40</td>\n",
       "      <td>0.45</td>\n",
       "      <td>-0.37</td>\n",
       "      <td>15.25</td>\n",
       "      <td>5.56</td>\n",
       "      <td>-4.46</td>\n",
       "      <td>9.47</td>\n",
       "      <td>8.17</td>\n",
       "      <td>9.18</td>\n",
       "      <td>10.31</td>\n",
       "    </tr>\n",
       "    <tr>\n",
       "      <th>Tanzania</th>\n",
       "      <td>0.68</td>\n",
       "      <td>0.19</td>\n",
       "      <td>-0.32</td>\n",
       "      <td>17.01</td>\n",
       "      <td>4.68</td>\n",
       "      <td>-7.97</td>\n",
       "      <td>3.98</td>\n",
       "      <td>3.30</td>\n",
       "      <td>3.79</td>\n",
       "      <td>4.30</td>\n",
       "      <td>...</td>\n",
       "      <td>0.71</td>\n",
       "      <td>0.25</td>\n",
       "      <td>-0.22</td>\n",
       "      <td>18.27</td>\n",
       "      <td>6.28</td>\n",
       "      <td>-6.00</td>\n",
       "      <td>4.17</td>\n",
       "      <td>3.49</td>\n",
       "      <td>4.01</td>\n",
       "      <td>4.52</td>\n",
       "    </tr>\n",
       "    <tr>\n",
       "      <th>Malawi</th>\n",
       "      <td>0.62</td>\n",
       "      <td>0.18</td>\n",
       "      <td>-0.24</td>\n",
       "      <td>17.89</td>\n",
       "      <td>5.05</td>\n",
       "      <td>-6.78</td>\n",
       "      <td>3.48</td>\n",
       "      <td>2.86</td>\n",
       "      <td>3.31</td>\n",
       "      <td>3.72</td>\n",
       "      <td>...</td>\n",
       "      <td>0.68</td>\n",
       "      <td>0.24</td>\n",
       "      <td>-0.15</td>\n",
       "      <td>19.23</td>\n",
       "      <td>6.71</td>\n",
       "      <td>-4.58</td>\n",
       "      <td>3.79</td>\n",
       "      <td>3.11</td>\n",
       "      <td>3.63</td>\n",
       "      <td>4.06</td>\n",
       "    </tr>\n",
       "    <tr>\n",
       "      <th>Mali</th>\n",
       "      <td>1.14</td>\n",
       "      <td>0.31</td>\n",
       "      <td>-0.75</td>\n",
       "      <td>13.39</td>\n",
       "      <td>3.62</td>\n",
       "      <td>-8.85</td>\n",
       "      <td>8.48</td>\n",
       "      <td>7.34</td>\n",
       "      <td>8.17</td>\n",
       "      <td>9.23</td>\n",
       "      <td>...</td>\n",
       "      <td>1.26</td>\n",
       "      <td>0.40</td>\n",
       "      <td>-0.54</td>\n",
       "      <td>14.47</td>\n",
       "      <td>4.99</td>\n",
       "      <td>-6.49</td>\n",
       "      <td>9.07</td>\n",
       "      <td>7.78</td>\n",
       "      <td>8.74</td>\n",
       "      <td>9.87</td>\n",
       "    </tr>\n",
       "  </tbody>\n",
       "</table>\n",
       "<p>6 rows × 30 columns</p>\n",
       "</div>"
      ],
      "text/plain": [
       "                mean                                                      \\\n",
       "           delta_abs              delta_rel                    pct         \n",
       "                 bep sqlns  tfsam       bep sqlns   tfsam baseline   bep   \n",
       "India           1.04  0.28  -1.35     10.64  2.89  -13.83     9.76  8.72   \n",
       "Bangladesh      1.39  0.40  -0.75     14.26  4.12   -7.72     9.71  8.33   \n",
       "Pakistan        1.27  0.35  -0.69     14.02  3.92   -7.57     9.04  7.77   \n",
       "Tanzania        0.68  0.19  -0.32     17.01  4.68   -7.97     3.98  3.30   \n",
       "Malawi          0.62  0.18  -0.24     17.89  5.05   -6.78     3.48  2.86   \n",
       "Mali            1.14  0.31  -0.75     13.39  3.62   -8.85     8.48  7.34   \n",
       "\n",
       "                         ...        ub                                       \\\n",
       "                         ... delta_abs              delta_rel                 \n",
       "           sqlns  tfsam  ...       bep sqlns  tfsam       bep sqlns   tfsam   \n",
       "India       9.48  11.11  ...      1.10  0.39  -1.31     11.32  3.92  -13.38   \n",
       "Bangladesh  9.31  10.46  ...      1.61  0.56  -0.50     15.16  5.75   -5.73   \n",
       "Pakistan    8.68   9.72  ...      1.40  0.45  -0.37     15.25  5.56   -4.46   \n",
       "Tanzania    3.79   4.30  ...      0.71  0.25  -0.22     18.27  6.28   -6.00   \n",
       "Malawi      3.31   3.72  ...      0.68  0.24  -0.15     19.23  6.71   -4.58   \n",
       "Mali        8.17   9.23  ...      1.26  0.40  -0.54     14.47  4.99   -6.49   \n",
       "\n",
       "                                         \n",
       "                pct                      \n",
       "           baseline   bep  sqlns  tfsam  \n",
       "India          9.93  8.87   9.66  11.25  \n",
       "Bangladesh    10.42  8.92  10.15  11.42  \n",
       "Pakistan       9.47  8.17   9.18  10.31  \n",
       "Tanzania       4.17  3.49   4.01   4.52  \n",
       "Malawi         3.79  3.11   3.63   4.06  \n",
       "Mali           9.07  7.78   8.74   9.87  \n",
       "\n",
       "[6 rows x 30 columns]"
      ]
     },
     "execution_count": 18,
     "metadata": {},
     "output_type": "execute_result"
    }
   ],
   "source": [
    "results.loc[location_list]"
   ]
  },
  {
   "cell_type": "code",
   "execution_count": 19,
   "metadata": {},
   "outputs": [
    {
     "data": {
      "text/html": [
       "<div>\n",
       "<style scoped>\n",
       "    .dataframe tbody tr th:only-of-type {\n",
       "        vertical-align: middle;\n",
       "    }\n",
       "\n",
       "    .dataframe tbody tr th {\n",
       "        vertical-align: top;\n",
       "    }\n",
       "\n",
       "    .dataframe thead th {\n",
       "        text-align: right;\n",
       "    }\n",
       "</style>\n",
       "<table border=\"1\" class=\"dataframe\">\n",
       "  <thead>\n",
       "    <tr style=\"text-align: right;\">\n",
       "      <th></th>\n",
       "      <th>baseline</th>\n",
       "      <th>bep</th>\n",
       "      <th>sqlns</th>\n",
       "      <th>tfsam</th>\n",
       "    </tr>\n",
       "  </thead>\n",
       "  <tbody>\n",
       "    <tr>\n",
       "      <th>India</th>\n",
       "      <td>9.76</td>\n",
       "      <td>8.72</td>\n",
       "      <td>9.48</td>\n",
       "      <td>11.11</td>\n",
       "    </tr>\n",
       "    <tr>\n",
       "      <th>Bangladesh</th>\n",
       "      <td>9.71</td>\n",
       "      <td>8.33</td>\n",
       "      <td>9.31</td>\n",
       "      <td>10.46</td>\n",
       "    </tr>\n",
       "    <tr>\n",
       "      <th>Pakistan</th>\n",
       "      <td>9.04</td>\n",
       "      <td>7.77</td>\n",
       "      <td>8.68</td>\n",
       "      <td>9.72</td>\n",
       "    </tr>\n",
       "    <tr>\n",
       "      <th>Tanzania</th>\n",
       "      <td>3.98</td>\n",
       "      <td>3.30</td>\n",
       "      <td>3.79</td>\n",
       "      <td>4.30</td>\n",
       "    </tr>\n",
       "    <tr>\n",
       "      <th>Malawi</th>\n",
       "      <td>3.48</td>\n",
       "      <td>2.86</td>\n",
       "      <td>3.31</td>\n",
       "      <td>3.72</td>\n",
       "    </tr>\n",
       "    <tr>\n",
       "      <th>Mali</th>\n",
       "      <td>8.48</td>\n",
       "      <td>7.34</td>\n",
       "      <td>8.17</td>\n",
       "      <td>9.23</td>\n",
       "    </tr>\n",
       "  </tbody>\n",
       "</table>\n",
       "</div>"
      ],
      "text/plain": [
       "           baseline   bep sqlns  tfsam\n",
       "India          9.76  8.72  9.48  11.11\n",
       "Bangladesh     9.71  8.33  9.31  10.46\n",
       "Pakistan       9.04  7.77  8.68   9.72\n",
       "Tanzania       3.98  3.30  3.79   4.30\n",
       "Malawi         3.48  2.86  3.31   3.72\n",
       "Mali           8.48  7.34  8.17   9.23"
      ]
     },
     "execution_count": 19,
     "metadata": {},
     "output_type": "execute_result"
    }
   ],
   "source": [
    "results.loc[location_list, ('mean', 'pct')]"
   ]
  },
  {
   "cell_type": "code",
   "execution_count": 20,
   "metadata": {},
   "outputs": [
    {
     "data": {
      "text/html": [
       "<div>\n",
       "<style scoped>\n",
       "    .dataframe tbody tr th:only-of-type {\n",
       "        vertical-align: middle;\n",
       "    }\n",
       "\n",
       "    .dataframe tbody tr th {\n",
       "        vertical-align: top;\n",
       "    }\n",
       "\n",
       "    .dataframe thead th {\n",
       "        text-align: right;\n",
       "    }\n",
       "</style>\n",
       "<table border=\"1\" class=\"dataframe\">\n",
       "  <thead>\n",
       "    <tr style=\"text-align: right;\">\n",
       "      <th></th>\n",
       "      <th>bep</th>\n",
       "      <th>sqlns</th>\n",
       "      <th>tfsam</th>\n",
       "    </tr>\n",
       "  </thead>\n",
       "  <tbody>\n",
       "    <tr>\n",
       "      <th>India</th>\n",
       "      <td>1.04</td>\n",
       "      <td>0.28</td>\n",
       "      <td>-1.35</td>\n",
       "    </tr>\n",
       "    <tr>\n",
       "      <th>Bangladesh</th>\n",
       "      <td>1.39</td>\n",
       "      <td>0.40</td>\n",
       "      <td>-0.75</td>\n",
       "    </tr>\n",
       "    <tr>\n",
       "      <th>Pakistan</th>\n",
       "      <td>1.27</td>\n",
       "      <td>0.35</td>\n",
       "      <td>-0.69</td>\n",
       "    </tr>\n",
       "    <tr>\n",
       "      <th>Tanzania</th>\n",
       "      <td>0.68</td>\n",
       "      <td>0.19</td>\n",
       "      <td>-0.32</td>\n",
       "    </tr>\n",
       "    <tr>\n",
       "      <th>Malawi</th>\n",
       "      <td>0.62</td>\n",
       "      <td>0.18</td>\n",
       "      <td>-0.24</td>\n",
       "    </tr>\n",
       "    <tr>\n",
       "      <th>Mali</th>\n",
       "      <td>1.14</td>\n",
       "      <td>0.31</td>\n",
       "      <td>-0.75</td>\n",
       "    </tr>\n",
       "  </tbody>\n",
       "</table>\n",
       "</div>"
      ],
      "text/plain": [
       "             bep sqlns  tfsam\n",
       "India       1.04  0.28  -1.35\n",
       "Bangladesh  1.39  0.40  -0.75\n",
       "Pakistan    1.27  0.35  -0.69\n",
       "Tanzania    0.68  0.19  -0.32\n",
       "Malawi      0.62  0.18  -0.24\n",
       "Mali        1.14  0.31  -0.75"
      ]
     },
     "execution_count": 20,
     "metadata": {},
     "output_type": "execute_result"
    }
   ],
   "source": [
    "results.loc[location_list, ('mean', 'delta_abs')]"
   ]
  },
  {
   "cell_type": "code",
   "execution_count": 21,
   "metadata": {},
   "outputs": [
    {
     "data": {
      "text/html": [
       "<div>\n",
       "<style scoped>\n",
       "    .dataframe tbody tr th:only-of-type {\n",
       "        vertical-align: middle;\n",
       "    }\n",
       "\n",
       "    .dataframe tbody tr th {\n",
       "        vertical-align: top;\n",
       "    }\n",
       "\n",
       "    .dataframe thead th {\n",
       "        text-align: right;\n",
       "    }\n",
       "</style>\n",
       "<table border=\"1\" class=\"dataframe\">\n",
       "  <thead>\n",
       "    <tr style=\"text-align: right;\">\n",
       "      <th></th>\n",
       "      <th>bep</th>\n",
       "      <th>sqlns</th>\n",
       "      <th>tfsam</th>\n",
       "    </tr>\n",
       "  </thead>\n",
       "  <tbody>\n",
       "    <tr>\n",
       "      <th>India</th>\n",
       "      <td>10.64</td>\n",
       "      <td>2.89</td>\n",
       "      <td>-13.83</td>\n",
       "    </tr>\n",
       "    <tr>\n",
       "      <th>Bangladesh</th>\n",
       "      <td>14.26</td>\n",
       "      <td>4.12</td>\n",
       "      <td>-7.72</td>\n",
       "    </tr>\n",
       "    <tr>\n",
       "      <th>Pakistan</th>\n",
       "      <td>14.02</td>\n",
       "      <td>3.92</td>\n",
       "      <td>-7.57</td>\n",
       "    </tr>\n",
       "    <tr>\n",
       "      <th>Tanzania</th>\n",
       "      <td>17.01</td>\n",
       "      <td>4.68</td>\n",
       "      <td>-7.97</td>\n",
       "    </tr>\n",
       "    <tr>\n",
       "      <th>Malawi</th>\n",
       "      <td>17.89</td>\n",
       "      <td>5.05</td>\n",
       "      <td>-6.78</td>\n",
       "    </tr>\n",
       "    <tr>\n",
       "      <th>Mali</th>\n",
       "      <td>13.39</td>\n",
       "      <td>3.62</td>\n",
       "      <td>-8.85</td>\n",
       "    </tr>\n",
       "  </tbody>\n",
       "</table>\n",
       "</div>"
      ],
      "text/plain": [
       "              bep sqlns   tfsam\n",
       "India       10.64  2.89  -13.83\n",
       "Bangladesh  14.26  4.12   -7.72\n",
       "Pakistan    14.02  3.92   -7.57\n",
       "Tanzania    17.01  4.68   -7.97\n",
       "Malawi      17.89  5.05   -6.78\n",
       "Mali        13.39  3.62   -8.85"
      ]
     },
     "execution_count": 21,
     "metadata": {},
     "output_type": "execute_result"
    }
   ],
   "source": [
    "results.loc[location_list, ('mean', 'delta_rel')]"
   ]
  },
  {
   "cell_type": "code",
   "execution_count": 22,
   "metadata": {},
   "outputs": [
    {
     "data": {
      "text/plain": [
       "{'India': '9.76',\n",
       " 'Bangladesh': '9.71',\n",
       " 'Pakistan': '9.04',\n",
       " 'Tanzania': '3.98',\n",
       " 'Malawi': '3.48',\n",
       " 'Mali': '8.48'}"
      ]
     },
     "execution_count": 22,
     "metadata": {},
     "output_type": "execute_result"
    }
   ],
   "source": [
    "results.loc[location_list, ('mean', 'pct', 'baseline')].to_dict()"
   ]
  },
  {
   "cell_type": "code",
   "execution_count": 23,
   "metadata": {},
   "outputs": [],
   "source": [
    "# compare to http://ihmeuw.org/4wg1 (GBD2017 1990-2017)\n",
    "# or http://ihmeuw.org/4wgl (forecasts to 2040, based on GBD2016)\n",
    "# but not too quantitatively, because that is SEV and this is cat2"
   ]
  },
  {
   "cell_type": "code",
   "execution_count": 24,
   "metadata": {},
   "outputs": [],
   "source": [
    "import seaborn as sns\n",
    "sns.set_context('talk', font_scale=1.5)\n",
    "\n",
    "def set_plot_size():\n",
    "    from IPython.core.pylabtools import figsize\n",
    "    figsize(11, 5.5)\n",
    "set_plot_size()"
   ]
  },
  {
   "cell_type": "markdown",
   "metadata": {},
   "source": [
    "# Plot percent MAM by location and scenario"
   ]
  },
  {
   "cell_type": "code",
   "execution_count": 25,
   "metadata": {
    "scrolled": false
   },
   "outputs": [
    {
     "data": {
      "image/png": "[encoded data removed]",
      "text/plain": [
       "<Figure size 792x396 with 1 Axes>"
      ]
     },
     "metadata": {
      "needs_background": "light"
     },
     "output_type": "display_data"
    }
   ],
   "source": [
    "def my_plot(cols_to_blank=[]):\n",
    "    t = results.loc[location_list, ('mean', 'pct')].astype(float)\\\n",
    "        .filter(['baseline', 'sqlns', 'bep', 'tfsam'])\n",
    "    t.loc[:, cols_to_blank] = 0\n",
    "    \n",
    "    t.columns = ['Baseline', 'SQ-LNS', 'BEP', 'TF-SAM']\n",
    "    t = t.sort_values('Baseline', ascending=False)\n",
    "    t.plot.bar(width=.8)\n",
    "\n",
    "    plt.legend(loc=(1.02, .25))\n",
    "\n",
    "    plt.ylabel('Prevalence of MAM (%)')\n",
    "    plt.xticks(rotation=30, ha='right')\n",
    "my_plot(cols_to_blank=[])"
   ]
  },
  {
   "cell_type": "markdown",
   "metadata": {},
   "source": [
    "# Plot delta MAM by location and scenario"
   ]
  },
  {
   "cell_type": "code",
   "execution_count": 26,
   "metadata": {},
   "outputs": [
    {
     "data": {
      "image/png": "[encoded data removed]",
      "text/plain": [
       "<Figure size 792x396 with 1 Axes>"
      ]
     },
     "metadata": {
      "needs_background": "light"
     },
     "output_type": "display_data"
    }
   ],
   "source": [
    "def my_plot(cols_to_blank=[]):\n",
    "    t = results.loc[location_list, ('mean', 'delta_abs')].astype(float)\\\n",
    "        .filter(['sqlns', 'bep', 'tfsam'])\n",
    "    \n",
    "    t = t.sort_values('bep', ascending=True)\n",
    "    t.loc[:, cols_to_blank] = 0\n",
    "\n",
    "    t.columns = ['SQ-LNS', 'BEP', 'TF-SAM']\n",
    "    \n",
    "    t.plot.bar(width=.8)\n",
    "\n",
    "    plt.legend(loc=(1.02, .25))\n",
    "    plt.axis(ymax=1.4)\n",
    "    plt.ylabel('Change in MAM\\nPrevalence (pp)')\n",
    "    plt.xticks(rotation=30, ha='right')\n",
    "my_plot(cols_to_blank=[])"
   ]
  },
  {
   "cell_type": "markdown",
   "metadata": {},
   "source": [
    "# Plot relative delta MAM by location and scenario"
   ]
  },
  {
   "cell_type": "code",
   "execution_count": 27,
   "metadata": {},
   "outputs": [
    {
     "data": {
      "image/png": "[encoded data removed]",
      "text/plain": [
       "<Figure size 792x396 with 1 Axes>"
      ]
     },
     "metadata": {
      "needs_background": "light"
     },
     "output_type": "display_data"
    }
   ],
   "source": [
    "def my_plot(cols_to_blank=[]):\n",
    "    t = results.loc[location_list, ('mean', 'delta_rel')].astype(float)\\\n",
    "        .filter(['sqlns', 'bep', 'tfsam'])\n",
    "    \n",
    "    t = t.sort_values('bep', ascending=True)\n",
    "    t.loc[:, cols_to_blank] = 0\n",
    "\n",
    "    t.columns = ['SQ-LNS', 'BEP', 'TF-SAM']\n",
    "    \n",
    "    t.plot.bar(width=.8)\n",
    "\n",
    "    plt.legend(loc=(1.02, .25))\n",
    "    plt.axis(ymax=35)\n",
    "    plt.ylabel('Change in MAM\\nPrevalence (%)')\n",
    "    plt.xticks(rotation=30, ha='right')\n",
    "my_plot(cols_to_blank=[])"
   ]
  },
  {
   "cell_type": "code",
   "execution_count": null,
   "metadata": {},
   "outputs": [],
   "source": []
  }
 ],
 "metadata": {
  "kernelspec": {
   "display_name": "dismod_mr",
   "language": "python",
   "name": "dismod_mr"
  },
  "language_info": {
   "codemirror_mode": {
    "name": "ipython",
    "version": 3
   },
   "file_extension": ".py",
   "mimetype": "text/x-python",
   "name": "python",
   "nbconvert_exporter": "python",
   "pygments_lexer": "ipython3",
   "version": "3.6.8"
  }
 },
 "nbformat": 4,
 "nbformat_minor": 2
}
